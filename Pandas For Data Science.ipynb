{
 "cells": [
  {
   "cell_type": "markdown",
   "metadata": {},
   "source": [
    "                                           Pandas For Data Science"
   ]
  },
  {
   "cell_type": "markdown",
   "metadata": {},
   "source": [
    "1-)Import pandas`"
   ]
  },
  {
   "cell_type": "code",
   "execution_count": 5,
   "metadata": {},
   "outputs": [],
   "source": [
    "import pandas as pd\n",
    "import numpy as np"
   ]
  },
  {
   "cell_type": "markdown",
   "metadata": {},
   "source": [
    "2-) Create a DataFrame"
   ]
  },
  {
   "cell_type": "code",
   "execution_count": 33,
   "metadata": {},
   "outputs": [
    {
     "name": "stdout",
     "output_type": "stream",
     "text": [
      "   Age    Name\n",
      "0   10    Arun\n",
      "1   20  Bhaggu\n",
      "2   25  Saushu\n",
      "3   21   Nippa\n\n",
      "     Name  Age\n",
      "0    Arun   10\n",
      "1  Bhaggu   20\n",
      "2  Saushu   25\n",
      "3   Nippa   21\n\n",
      "     Name  Age Salary\n",
      "0    Arun   10    NaN\n",
      "1  Bhaggu   20    NaN\n",
      "2  Saushu   25    NaN\n",
      "3   Nippa   21    NaN\n\n",
      "     a   b   c   e   d   f\n",
      "n    0   1   2   3   4   5\n",
      "n1   6   7   8   9  10  11\n",
      "n2  12  13  14  15  16  17\n",
      "n3  18  19  20  21  22  23\n",
      "n4  24  25  26  27  28  29\n\n",
      "     a   b   c   e   d   f\n",
      "n    0   1   2   3   4   5\n",
      "n1   6   7   8   9  10  11\n",
      "n2  12  13  14  15  16  17\n",
      "n3  18  19  20  21  22  23\n",
      "n4  24  25  26  27  28  29\n\n"
     ]
    }
   ],
   "source": [
    "#from dictionary\n",
    "data={\"Name\":[\"Arun\",\"Bhaggu\",\"Saushu\",\"Nippa\",],\"Age\":[10,20,25,21]}\n",
    "dataframe=pd.DataFrame(data)\n",
    "print(dataframe) #columns always get sorted defaultly\n\n",
    "#if you want columns in  order\n",
    "dataframe=pd.DataFrame(data,columns=[\"Name\",\"Age\"])\n",
    "print(dataframe)\n\n",
    "#if you give any column wihich is not present it will give NaN on that column(also happens in index)\n",
    "dataframe=pd.DataFrame(data,columns=[\"Name\",\"Age\",\"Salary\"]) #Salry column will have NaN\n",
    "print(dataframe)\n\n",
    "#no.s on extreme left are called index\n\n",
    "#from numpy\n",
    "array=np.arange(30).reshape(5,6)\n",
    "numpy_frame=pd.DataFrame(array,columns=[\"a\",\"b\",\"c\",\"e\",\"d\",\"f\"],index=[\"n\",\"n1\",\"n2\",\"n3\",\"n4\"])\n",
    "print(numpy_frame)\n",
    "\n",
    "\n",
    "#from csv"
   ]
  },
  {
   "cell_type": "markdown",
   "metadata": {},
   "source": [
    "3-) Get rows and columns"
   ]
  },
  {
   "cell_type": "code",
   "execution_count": 21,
   "metadata": {},
   "outputs": [
    {
     "name": "stdout",
     "output_type": "stream",
     "text": [
      "   Age    Name      State\n",
      "0   10    Arun       U.P.\n",
      "1   20  Bhaggu      Bihar\n",
      "2   25  Saushu  Jharkhand\n",
      "3   21   Nippa       U.P.\n",
      "4   12  Hassan      Kabul\n",
      "5   13    Amir      Kabul\n\n",
      "0      Arun\n",
      "1    Bhaggu\n",
      "2    Saushu\n",
      "3     Nippa\n",
      "4    Hassan\n",
      "5      Amir\n\n",
      "Name: Name, dtype: object\n",
      "0      Arun\n",
      "1    Bhaggu\n",
      "2    Saushu\n",
      "3     Nippa\n",
      "4    Hassan\n",
      "5      Amir\n\n",
      "Name: Name, dtype: object\n",
      "   Age    Name      State\n",
      "0   10    Arun       U.P.\n",
      "1   20  Bhaggu      Bihar\n",
      "2   25  Saushu  Jharkhand\n",
      "3   21   Nippa       U.P.\n",
      "4   12  Hassan      Kabul\n",
      "   Age    Name      State\n",
      "0   10    Arun       U.P.\n",
      "1   20  Bhaggu      Bihar\n",
      "2   25  Saushu  Jharkhand\n\n",
      "Index(['Age', 'Name', 'State'], dtype='object')\n",
      "RangeIndex(start=0, stop=6, step=1)\n"
     ]
    }
   ],
   "source": [
    "data={\"Name\":[\"Arun\",\"Bhaggu\",\"Saushu\",\"Nippa\",\"Hassan\",\"Amir\"],\"Age\":[10,20,25,21,12,13],\"State\":[\"U.P.\",\"Bihar\",\"Jharkhand\",\"U.P.\",\"Kabul\",\"Kabul\"]}\n",
    "dataframe=pd.DataFrame(data)\n",
    "print(dataframe)\n\n",
    "#to get any columnm\n",
    "print(dataframe[\"Name\"]) #this method is most appropriable\n\n",
    "print(dataframe.Name)\n\n",
    "print(dataframe.head()) #print first 5 rows\n\n",
    "print(dataframe.head(3))# can also give no. to show\n\n",
    "print(dataframe.columns)#to show te name of columns\n\n",
    "print(dataframe.index)#to show index\n"
   ]
  },
  {
   "cell_type": "markdown",
   "metadata": {},
   "source": [
    "4-) Assign new values to rows and columns"
   ]
  },
  {
   "cell_type": "code",
   "execution_count": 51,
   "metadata": {},
   "outputs": [
    {
     "name": "stdout",
     "output_type": "stream",
     "text": [
      "   Age    Name      State\n",
      "0   10    Arun       U.P.\n",
      "1   20  Bhaggu      Bihar\n",
      "2   25  Saushu  Jharkhand\n",
      "3   21   Nippa       U.P.\n",
      "4   12  Hassan      Kabul\n",
      "5   13    Amir      Kabul\n\n",
      "   Age    Name      State\n",
      "0    9    Arun       U.P.\n",
      "1    9  Bhaggu      Bihar\n",
      "2    9  Saushu  Jharkhand\n",
      "3    9   Nippa       U.P.\n",
      "4    9  Hassan      Kabul\n",
      "5    9    Amir      Kabul\n\n",
      "   Age    Name      State  Roll_No.\n",
      "0    9    Arun       U.P.         0\n",
      "1    9  Bhaggu      Bihar         1\n",
      "2    9  Saushu  Jharkhand         2\n",
      "3    9   Nippa       U.P.         3\n",
      "4    9  Hassan      Kabul         4\n",
      "5    9    Amir      Kabul         5\n\n",
      "   Age    Name      State  Roll_No.  Verify\n",
      "0    9    Arun       U.P.         0   False\n",
      "1    9  Bhaggu      Bihar         1   False\n",
      "2    9  Saushu  Jharkhand         2   False\n",
      "3    9   Nippa       U.P.         3   False\n",
      "4    9  Hassan      Kabul         4    True\n",
      "5    9    Amir      Kabul         5    True\n\n",
      "   Age    Name  State  Roll_No.  Verify\n",
      "4    9  Hassan  Kabul         4    True\n",
      "5    9    Amir  Kabul         5    True\n\n",
      "   Age    Name      State  Roll_No.\n",
      "0    9    Arun       U.P.         0\n",
      "1    9  Bhaggu      Bihar         1\n",
      "2    9  Saushu  Jharkhand         2\n",
      "3    9   Nippa       U.P.         3\n",
      "4    9  Hassan      Kabul         4\n",
      "5    9    Amir      Kabul         5\n\n",
      "[[9 'Arun' 'U.P.' 0]\n",
      " [9 'Bhaggu' 'Bihar' 1]\n",
      " [9 'Saushu' 'Jharkhand' 2]\n",
      " [9 'Nippa' 'U.P.' 3]\n",
      " [9 'Hassan' 'Kabul' 4]\n",
      " [9 'Amir' 'Kabul' 5]]\n\n",
      "Zindagi  Age    Name      State  Roll_No.\n",
      "ESE                                      \n",
      "0          9    Arun       U.P.         0\n",
      "1          9  Bhaggu      Bihar         1\n",
      "2          9  Saushu  Jharkhand         2\n",
      "3          9   Nippa       U.P.         3\n",
      "4          9  Hassan      Kabul         4\n",
      "5          9    Amir      Kabul         5\n\n",
      "   a1    b1\n",
      "1  90  67.0\n",
      "2  89   NaN\n",
      "3  60  78.0\n"
     ]
    }
   ],
   "source": [
    "data={\"Name\":[\"Arun\",\"Bhaggu\",\"Saushu\",\"Nippa\",\"Hassan\",\"Amir\"],\"Age\":[10,20,25,21,12,13],\"State\":[\"U.P.\",\"Bihar\",\"Jharkhand\",\"U.P.\",\"Kabul\",\"Kabul\"]}\n",
    "dataframe=pd.DataFrame(data)\n",
    "print(dataframe)\n\n",
    "dataframe[\"Age\"]=9 #will change all calues in column in 9\n",
    "print(dataframe)\n\n",
    "# to add a new column\n",
    "dataframe[\"Roll_No.\"]=np.arange(6)\n",
    "print(dataframe)\n\n",
    "#to add  a boolean_array\n",
    "dataframe[\"Verify\"]=dataframe.State==\"Kabul\"# dataframe.State==\"Kabul\" will produce boolean array nand it will be assigned to new column verify\n",
    "print(dataframe)\n\n",
    "#to filter\n",
    "print(dataframe[dataframe.State==\"Kabul\"]) #will only show those rows which have State==Kabul \n\n",
    "#to delete a column\n",
    "del dataframe[\"Verify\"]\n",
    "print(dataframe)\n\n",
    "#to get all values\n",
    "print(dataframe.values) # it will be a numpy arrray (very important)\n\n",
    "#to name index and column\n",
    "dataframe.index.name=\"ESE\"\n",
    "dataframe.columns.name=\"Zindagi\"\n",
    "print(dataframe)\n\n",
    "# indices are immutable and can be present in duplicate form\n",
    "data={\"a1\":{1:90,2:89,3:60},\"b1\":{1:67,3:78}} #the value of r2 will be NaN for b1 column\n",
    "frame=pd.DataFrame(data)\n",
    "print(frame)\n"
   ]
  },
  {
   "cell_type": "markdown",
   "metadata": {},
   "source": [
    "5-) Advance Functions in DataFrame "
   ]
  },
  {
   "cell_type": "code",
   "execution_count": 67,
   "metadata": {},
   "outputs": [
    {
     "name": "stdout",
     "output_type": "stream",
     "text": [
      "   a1    b1\n",
      "1  90  67.0\n",
      "2  89   NaN\n",
      "3  60  78.0\n",
      "     a1    b1\n",
      "1  90.0  67.0\n",
      "2  89.0   NaN\n",
      "3  60.0  78.0\n",
      "4   NaN   NaN\n",
      "   a1    b1  c1\n",
      "1  90  67.0 NaN\n",
      "2  89   NaN NaN\n",
      "3  60  78.0 NaN\n",
      "      a1     b1    c1\n",
      "1  False  False  True\n",
      "2  False   True  True\n",
      "3  False  False  True\n",
      "     a1    b1  c1\n",
      "1  90.0  67.0 NaN\n",
      "2  89.0   NaN NaN\n",
      "3  60.0  78.0 NaN\n",
      "4   NaN   NaN NaN\n",
      "     a1    b1  c1\n",
      "1  90.0  67.0 NaN\n",
      "3  60.0  78.0 NaN\n",
      "     a1    b1  c1\n",
      "1  90.0  67.0 NaN\n",
      "2  89.0   NaN NaN\n",
      "3  60.0  78.0 NaN\n",
      "4   NaN   NaN NaN\n",
      "     b1\n",
      "1  67.0\n",
      "2   NaN\n",
      "3  78.0\n",
      "4   NaN\n",
      "     a1    b1\n",
      "1  90.0  67.0\n",
      "2  89.0   NaN\n",
      "3  60.0  78.0\n",
      "4   NaN   NaN\n"
     ]
    },
    {
     "name": "stderr",
     "output_type": "stream",
     "text": [
      "c:\\users\\arun rathore\\appdata\\local\\programs\\python\\python35\\lib\\site-packages\\ipykernel_launcher.py:12: FutureWarning: \n",
      "Passing list-likes to .loc or [] with any missing label will raise\n",
      "KeyError in the future, you can use .reindex() as an alternative.\n",
      "\n",
      "See the documentation here:\n",
      "https://pandas.pydata.org/pandas-docs/stable/indexing.html#deprecate-loc-reindex-listlike\n",
      "  if sys.path[0] == '':\n"
     ]
    }
   ],
   "source": [
    "#to reindex data\n",
    "data={\"a1\":{1:90,2:89,3:60},\"b1\":{1:67,3:78}}\n",
    "frame=pd.DataFrame(data)\n",
    "print(frame)\n",
    "new=frame.reindex([1,2,3,4])\n",
    "print(new)\n",
    "#we can also reindex column also\n",
    "new=frame.reindex(columns=[\"a1\",\"b1\",\"c1\"])\n",
    "print(new)\n",
    "print(new.isnull()) #to find null values in dataframe\n",
    "#can use loc to reindex both index and columns\n",
    "new=frame.loc[[1,2,3,4],[\"a1\",\"b1\",\"c1\"]]#unstable\n",
    "print(new)\n",
    "#to delete or drop indices or columns at once\n",
    "new2=new.drop([2,4])#defaultly it will drop rows\n",
    "print(new2)\n",
    "print(new)\n",
    "new2=new.drop([\"a1\",\"c1\"],axis=1) #to drop columns\n",
    "print(new2)\n",
    "#to drop on original dataframe have to use inplace\n",
    "new.drop([\"c1\"],axis=1,inplace=True)\n",
    "print(new) #c1 will be dropped for permanently\n"
   ]
  },
  {
   "cell_type": "markdown",
   "metadata": {},
   "source": [
    "6-) Indexing,Selection and Filtering "
   ]
  },
  {
   "cell_type": "code",
   "execution_count": 35,
   "metadata": {},
   "outputs": [
    {
     "name": "stdout",
     "output_type": "stream",
     "text": [
      "   Age    Name\n",
      "0   10    Arun\n",
      "1   20  Bhaggu\n",
      "2   25  Saushu\n",
      "3   21   Nippa\n",
      "4   12  Hassan\n",
      "5   13    Amir\n",
      "   Age    Name      State\n",
      "0   10    Arun       U.P.\n",
      "1   20  Bhaggu      Bihar\n",
      "2   25  Saushu  Jharkhand\n",
      "3   21   Nippa       U.P.\n",
      "   Age    Name  State\n",
      "4   12  Hassan  Kabul\n",
      "5   13    Amir  Kabul\n",
      "   Age    Name  State\n",
      "0   10    Arun   U.P.\n",
      "4   12  Hassan  Kabul\n",
      "5   13    Amir  Kabul\n",
      "0    False\n",
      "1    False\n",
      "2    False\n",
      "3    False\n",
      "4    False\n",
      "5    False\n",
      "Name: Age, dtype: bool\n",
      "   Age    Name      State\n",
      "0    0       0          0\n",
      "1   20  Bhaggu      Bihar\n",
      "2   25  Saushu  Jharkhand\n",
      "3   21   Nippa       U.P.\n",
      "4    0       0          0\n",
      "5    0       0          0\n",
      "    Age    Name      State\n",
      "i1   10    Arun       U.P.\n",
      "i2   20  Bhaggu      Bihar\n",
      "i3   25  Saushu  Jharkhand\n",
      "i4   21   Nippa       U.P.\n",
      "i5   12  Hassan      Kabul\n",
      "i6   13    Amir      Kabul\n",
      "Age          20\n",
      "Name     Bhaggu\n",
      "State     Bihar\n",
      "Name: i2, dtype: object\n",
      "    Age    Name      State\n",
      "i2   20  Bhaggu      Bihar\n",
      "i3   25  Saushu  Jharkhand\n",
      "i4   21   Nippa       U.P.\n",
      "i5   12  Hassan      Kabul\n",
      "i6   13    Amir      Kabul\n",
      "    Age  state\n",
      "i2   20    NaN\n",
      "i4   21    NaN\n",
      "    Age    Name      State\n",
      "i3   25  Saushu  Jharkhand\n",
      "i4   21   Nippa       U.P.\n",
      "i5   12  Hassan      Kabul\n",
      "i6   13    Amir      Kabul\n",
      "        State  Age\n",
      "i3  Jharkhand   25\n",
      "i4       U.P.   21\n",
      "      Name      State\n",
      "i3  Saushu  Jharkhand\n",
      "i4   Nippa       U.P.\n",
      "i5  Hassan      Kabul\n",
      "i6    Amir      Kabul\n",
      "Age          12\n",
      "Name     Hassan\n",
      "State     Kabul\n",
      "Name: i5, dtype: object\n",
      "    Age    Name\n",
      "i3   25  Saushu\n",
      "i4   21   Nippa\n"
     ]
    },
    {
     "name": "stderr",
     "output_type": "stream",
     "text": [
      "c:\\users\\arun rathore\\appdata\\local\\programs\\python\\python35\\lib\\site-packages\\ipykernel_launcher.py:19: FutureWarning: \n",
      "Passing list-likes to .loc or [] with any missing label will raise\n",
      "KeyError in the future, you can use .reindex() as an alternative.\n",
      "\n",
      "See the documentation here:\n",
      "https://pandas.pydata.org/pandas-docs/stable/indexing.html#deprecate-loc-reindex-listlike\n"
     ]
    }
   ],
   "source": [
    "data={\"Name\":[\"Arun\",\"Bhaggu\",\"Saushu\",\"Nippa\",\"Hassan\",\"Amir\"],\"Age\":[10,20,25,21,12,13],\"State\":[\"U.P.\",\"Bihar\",\"Jharkhand\",\"U.P.\",\"Kabul\",\"Kabul\"]}\n",
    "dataframe=pd.DataFrame(data)\n",
    "#get tmore then one column at once\n",
    "print(dataframe[[\"Age\",\"Name\"]])\n",
    "#for selecting no. of rows\n",
    "print(dataframe[:4]) #not include last one\n",
    "print(dataframe[4:])\n",
    "#boolean\n",
    "print(dataframe[dataframe[\"Age\"]<20])\n",
    "print(dataframe[\"Age\"]<10)\n",
    "dataframe[dataframe.Age<20]=0\n",
    "print(dataframe)\n",
    "#loc and iloc function\n",
    "data={\"Name\":[\"Arun\",\"Bhaggu\",\"Saushu\",\"Nippa\",\"Hassan\",\"Amir\"],\"Age\":[10,20,25,21,12,13],\"State\":[\"U.P.\",\"Bihar\",\"Jharkhand\",\"U.P.\",\"Kabul\",\"Kabul\"]}\n",
    "dataframe=pd.DataFrame(data,index=[\"i1\",\"i2\",\"i3\",\"i4\",\"i5\",\"i6\"])\n",
    "print(dataframe)\n",
    "print(dataframe.loc[\"i2\"]) #i2 is index \n",
    "print(dataframe.loc[\"i2\":])\n",
    "print(dataframe.loc[[\"i2\",\"i4\"],[\"Age\",\"state\"]])\n",
    "print(dataframe.loc[\"i3\":,\"Age\":])\n",
    "\n",
    "#iloc is used to denote in integer (i for integer)\n",
    "print(dataframe.iloc[[2,3],[2,0]])\n",
    "print(dataframe.iloc[2:,1:])\n",
    "print(dataframe.iloc[4])\n",
    "\n",
    "#you can also put condition \n",
    "print(dataframe.iloc[:,:2][dataframe.Age>20])\n"
   ]
  }
 ],
 "metadata": {
  "kernelspec": {
   "display_name": "Python 3",
   "language": "python",
   "name": "python3"
  },
  "language_info": {
   "codemirror_mode": {
    "name": "ipython",
    "version": 3
   },
   "file_extension": ".py",
   "mimetype": "text/x-python",
   "name": "python",
   "nbconvert_exporter": "python",
   "pygments_lexer": "ipython3",
   "version": "3.5.2"
  }
 },
 "nbformat": 4,
 "nbformat_minor": 2
}
