{
 "cells": [
  {
   "cell_type": "markdown",
   "metadata": {},
   "source": [
    "                                       Numpy And Pandas For Data Science"
   ]
  },
  {
   "cell_type": "markdown",
   "metadata": {},
   "source": [
    "1-First import numpy library"
   ]
  },
  {
   "cell_type": "code",
   "execution_count": 180,
   "metadata": {},
   "outputs": [],
   "source": [
    "import numpy as np  #np is alias will be used for numpy(shortform)"
   ]
  },
  {
   "cell_type": "markdown",
   "metadata": {},
   "source": [
    "2-Create a 1-D array in numpy"
   ]
  },
  {
   "cell_type": "code",
   "execution_count": 166,
   "metadata": {},
   "outputs": [
    {
     "data": {
      "text/plain": [
       "array([0, 1, 2, 3, 4, 5, 6, 7, 8, 9])"
      ]
     },
     "execution_count": 166,
     "metadata": {},
     "output_type": "execute_result"
    }
   ],
   "source": [
    "one_d=np.arange(10) #from 0 to 9 (10 not included)\n",
    "one_d"
   ]
  },
  {
   "cell_type": "code",
   "execution_count": 167,
   "metadata": {},
   "outputs": [
    {
     "name": "stdout",
     "output_type": "stream",
     "text": [
      "[1 2 3 4 5]\n",
      "<class 'numpy.ndarray'>\n",
      "[1 2 3 4 5]\n",
      "(5,)\n",
      "int32\n",
      "1\n",
      "[0. 0. 0. 0. 0. 0. 0. 0. 0. 0.]\n",
      "float64\n",
      "[1. 1. 1. 1. 1. 1. 1. 1. 1. 1.]\n",
      "float64\n",
      "[0. 1. 2. 3. 4. 5. 6. 7. 8. 9.]\n",
      "[1 2 3 6 7]\n",
      "[1. 2. 3. 6. 7.]\n",
      "float32\n"
     ]
    }
   ],
   "source": [
    "list=[1,2,3,4,5]\n",
    "list_to_array=np.array(list)\n",
    "print(list_to_array)\n",
    "print(type(list_to_array))\n\n",
    "#or can do directly\n",
    "list_to_array=np.array([1,2,3,4,5])\n",
    "print(list_to_array)\n\n",
    "#To get shape\n",
    "print(list_to_array.shape)\n\n",
    "#to get data type\n",
    "print(list_to_array.dtype)\n\n",
    "#to get dimension\n",
    "print(list_to_array.ndim)\n\n",
    "#to get special values in array\n",
    "zeros_array=np.zeros(10) #all values will be 0\n",
    "print(zeros_array)\n",
    "print(zeros_array.dtype)\n",
    "ones_array=np.ones(10) # all values will be 1\n",
    "print(ones_array)\n",
    "print(ones_array.dtype)\n\n",
    "#to get a special dtpe array\n",
    "a=np.arange(10,dtype=np.float32)\n",
    "print(a)\n",
    "b=np.array([1,2.5,3.4,6,7],dtype=np.int32) #values can be truncated when changing datatype\n",
    "print(b)\n",
    "c=b.astype(a.dtype)#astype used to change datatype\n",
    "print(c)\n",
    "print(c.dtype)"
   ]
  },
  {
   "cell_type": "markdown",
   "metadata": {},
   "source": [
    "3-Mathematical operation on 1-D array"
   ]
  },
  {
   "cell_type": "code",
   "execution_count": 168,
   "metadata": {},
   "outputs": [
    {
     "name": "stdout",
     "output_type": "stream",
     "text": [
      "[ 0 10 20 30 40]\n\n",
      "[0.  0.1 0.2 0.3 0.4]\n\n",
      "[ 5 10 12]\n\n",
      "[-1 -4 -4]\n\n",
      "[ 6 21 32]\n\n",
      "[0.66666667 0.42857143 0.5       ]\n\n",
      "[4 6 8]\n"
     ]
    }
   ],
   "source": [
    "array=np.arange(5)\n",
    "print(array*10)\n",
    "print(array/10)\n",
    "\n",
    "#operation b/w two 1-D array (only when both array have same dimensions)\n",
    "#all operation will be element-wise in 1-D array\n",
    "first=np.array([2,3,4])\n",
    "second=np.array([3,7,8])\n",
    "third=np.array([9,8]) # first(second) third can't be added due to different dimebsions i.e, (3,) and (2,)\n",
    "print(first+second)\n",
    "print(first-second)\n",
    "print(first*second)\n",
    "print(first/second) \n\n",
    "#operation with same array\n",
    "print(first+first)\n",
    "#print(first+third) this will give error"
   ]
  },
  {
   "cell_type": "code",
   "execution_count": 169,
   "metadata": {},
   "outputs": [
    {
     "name": "stdout",
     "output_type": "stream",
     "text": [
      "[0 1 2 3 4 5 6 7 8 9]\n\n",
      "45\n\n",
      "[0.         1.         1.41421356 1.73205081 2.         2.23606798\n",
      " 2.44948974 2.64575131 2.82842712 3.        ]\n\n",
      "[1.00000000e+00 2.71828183e+00 7.38905610e+00 2.00855369e+01\n",
      " 5.45981500e+01 1.48413159e+02 4.03428793e+02 1.09663316e+03\n",
      " 2.98095799e+03 8.10308393e+03]\n\n",
      "4.5\n"
     ]
    }
   ],
   "source": [
    "array=np.arange(10)\n",
    "print(array)\n",
    "print(np.sum(array))\n",
    "print(np.sqrt(array)) #for square root\n",
    "print(np.exp(array)) #for exponential\n",
    "print(np.mean(array)) #for finding mean"
   ]
  },
  {
   "cell_type": "markdown",
   "metadata": {},
   "source": [
    "4-Indexing and Slicing in 1-D"
   ]
  },
  {
   "cell_type": "code",
   "execution_count": 170,
   "metadata": {},
   "outputs": [
    {
     "name": "stdout",
     "output_type": "stream",
     "text": [
      "[0 1 2 3 4 5 6 7 8 9]\n\n",
      "3\n\n",
      "[ 0  1  2 90  4  5  6  7  8  9]\n\n",
      "[0 1 2 3 4 5 6 7 8 9]\n\n",
      "9\n\n",
      "3\n\n",
      "[ 0  1  2  3  4 70  6  7  8  9]\n\n",
      "[5 6 7]\n\n",
      "[0 1 2 3 4 0 0 0 8 9]\n\n",
      "[          0           1           2           3           4 -2147483648\n",
      " -2147483648 -2147483648           8           9]\n\n",
      "[100   1   2] \n\n",
      "\n",
      "[        100           1           2           3           4 -2147483648\n",
      " -2147483648 -2147483648           8           9] \n",
      "\n",
      "[200   1   2] \n",
      "\n",
      "[        100           1           2           3           4 -2147483648\n",
      " -2147483648 -2147483648           8           9]\n",
      "negative indexing\n",
      "[4 5 6 7 8]\n"
     ]
    }
   ],
   "source": [
    "array=np.arange(10)\n",
    "print(array)\n\n",
    "#simple indexing\n",
    "print(array[3])\n",
    "array[3]=90\n",
    "print(array)\n\n",
    "#we can also use negative slicing\n",
    "array=np.arange(10)\n",
    "print(array)\n",
    "print(array[-1]) #it starts from the end with -1 goes to -10\n",
    "print(array[-7])\n",
    "array[-5]=70\n",
    "print(array)\n",
    "\n",
    "#slicing\n",
    "array=np.arange(10)\n",
    "print(array[5:8]) #last index will not be included, (5,6,7) will be included\n",
    "array[5:8]=0 #can change values of array\n",
    "print(array)\n",
    "array[5:8]=np.nan #null type values inserting\n",
    "print(array)\n",
    "sliced_array=array[0:3] #it's view not copy of array, means any changes in this array will be reflected in original array\n",
    "sliced_array[0]=100\n",
    "print(sliced_array,\"\\n\")\n",
    "print(array,\"\\n\")\n\n",
    "#to tackle this use copy, any changes in this wil;l not be reflected in original array\n",
    "sliced_array=array[0:3].copy()\n",
    "sliced_array[0]=200\n",
    "print(sliced_array,\"\\n\")\n",
    "print(array)\n\n",
    "#negative indexing\n",
    "print(\"negative indexing\")\n",
    "array=np.arange(10)\n",
    "print(array[-6:-1])  #ame as positive slicing and -1 will not be included(till -6 to -2) \n",
    "\n"
   ]
  },
  {
   "cell_type": "markdown",
   "metadata": {},
   "source": [
    "5-Create a 2-D array in Numpy (also called matrix)"
   ]
  },
  {
   "cell_type": "code",
   "execution_count": 171,
   "metadata": {},
   "outputs": [
    {
     "name": "stdout",
     "output_type": "stream",
     "text": [
      "[[1 2]\n",
      " [3 4]\n",
      " [5 6]]\n",
      "Shape= (3, 2)\n\n",
      "[[1 2]\n",
      " [3 4]\n",
      " [5 6]]\n\n",
      "[[ 1.13162939  1.51981682  2.18557541 -1.39649634]\n",
      " [-1.44411381 -0.50446586  0.16003707  0.87616892]\n",
      " [ 0.31563495 -2.02220122 -0.30620401  0.82797464]]\n\n",
      "(3, 4)\n\n",
      "float64\n\n",
      "2\n\n",
      "[[ 0  1  2  3]\n",
      " [ 4  5  6  7]\n",
      " [ 8  9 10 11]]\n\n",
      "(3, 4)\n\n",
      "float64\n\n",
      "2\n\n",
      "[[0. 0. 0.]\n",
      " [0. 0. 0.]]\n\n",
      "[[1. 1. 1.]\n",
      " [1. 1. 1.]]\n"
     ]
    }
   ],
   "source": [
    "#from a 2D list\n",
    "two_d_list=[[1,2],[3,4],[5,6]]\n",
    "two_d_array=np.array(two_d_list)\n",
    "print(two_d_array)\n",
    "print(\"Shape=\",two_d_array.shape)\n",
    "a=np.array([[1,2],[3,4],[5,6]]) #directly\n",
    "print(a)\n\n",
    "#generating random no.s with random function\n",
    "two_d_array=np.random.randn(3,4) # (3,4) are dimensions i.e, no. of rows=3, no.of columns=4\n",
    "print(two_d_array)\n",
    "print(two_d_array.shape)\n",
    "print(two_d_array.dtype)\n",
    "print(two_d_array.ndim)\n\n",
    "#also can generate in a range with right dimensions\n",
    "two_d_range=np.arange(12).reshape(3,4)\n",
    "print(two_d_range)\n",
    "print(two_d_array.shape)\n",
    "print(two_d_array.dtype)\n",
    "print(two_d_array.ndim)\n",
    "\n",
    "#You can't make two_d_range=np.arange(14).reshape(3,4) because 14 values can't be boxed in (3,4) matrix,only 12 12(3X4)\n\n",
    "#two_d_range=np.arange(10).reshape(3,4) thiw will also produce error only 12 can contain \n",
    "zeros_2d=np.zeros((2,3))\n",
    "print(zeros_2d)\n",
    "ones_2d=np.ones((2,3))\n",
    "print(ones_2d)\n",
    "\n"
   ]
  },
  {
   "cell_type": "markdown",
   "metadata": {},
   "source": [
    "6-Mathematical Operations on 2-D"
   ]
  },
  {
   "cell_type": "code",
   "execution_count": 172,
   "metadata": {},
   "outputs": [
    {
     "name": "stdout",
     "output_type": "stream",
     "text": [
      "[[ 0  1  2  3]\n",
      " [ 4  5  6  7]\n",
      " [ 8  9 10 11]]\n\n",
      "[[  0  10  20  30]\n",
      " [ 40  50  60  70]\n",
      " [ 80  90 100 110]]\n\n",
      "[[10 11 12 13]\n",
      " [14 15 16 17]\n",
      " [18 19 20 21]]\n\n",
      "Sum= \n",
      " [[ 5  7]\n",
      " [ 9 11]\n",
      " [13 15]]\n",
      "Square of whole array \n",
      " [[ 1  4]\n",
      " [ 9 16]\n",
      " [25 36]]\n",
      "21\n",
      "[[1.         1.41421356]\n",
      " [1.73205081 2.        ]\n",
      " [2.23606798 2.44948974]]\n",
      "[[  2.71828183   7.3890561 ]\n",
      " [ 20.08553692  54.59815003]\n",
      " [148.4131591  403.42879349]]\n",
      "3.5\n"
     ]
    }
   ],
   "source": [
    "#any type of operation will be performrd on whole matrix\n",
    "two_d_array=np.arange(12).reshape(3,4)\n",
    "print(two_d_array)\n",
    "new=two_d_array*10\n",
    "print(new)\n",
    "new=two_d_array+10\n",
    "print(new)\n",
    "#for 2 dimensions calculations, the shape of both vectors should be same\n",
    "first=np.array([[1,2],[3,4],[5,6]])\n",
    "second=np.array([[4,5],[6,7],[8,9]])\n",
    "print(\"Sum= \\n\",first+second) #operation happens element_wise with same location\n",
    "print(\"Square of whole array \\n\",first**2)\n",
    "print(np.sum(first))\n",
    "print(np.sqrt(first))\n",
    "print(np.exp(first))\n",
    "print(np.mean(first))"
   ]
  },
  {
   "cell_type": "markdown",
   "metadata": {},
   "source": [
    "7-Indexing and Slicing in 2D arrays"
   ]
  },
  {
   "cell_type": "code",
   "execution_count": 173,
   "metadata": {},
   "outputs": [
    {
     "name": "stdout",
     "output_type": "stream",
     "text": [
      "[[ 0  1  2  3]\n",
      " [ 4  5  6  7]\n",
      " [ 8  9 10 11]]\n",
      "[4 5 6 7]\n",
      "8\n",
      "[ 8  9 10 11]\n",
      "Slicing \n",
      "\n",
      "[[ 0  1  2  3]\n",
      " [ 4  5  6  7]\n",
      " [ 8  9 10 11]]\n",
      "[[10 10 10 10]\n",
      " [10 10 10 10]\n",
      " [10 10 10 10]] [[10 10 10 10]\n",
      " [10 10 10 10]\n",
      " [10 10 10 10]]\n",
      "[[ 0  1  2  3]\n",
      " [ 4  5  6  7]\n",
      " [ 8  9 10 11]]\n",
      "[[10 10 10 10]\n",
      " [10 10 10 10]\n",
      " [10 10 10 10]] \n",
      " [[ 0  1  2  3]\n",
      " [ 4  5  6  7]\n",
      " [ 8  9 10 11]]\n",
      "[[0 1 2 3]\n",
      " [4 5 6 7]]\n",
      "[ 2  6 10]\n",
      "[[1 2]]\n",
      "[[  0 100 100   3]\n",
      " [  4   5   6   7]\n",
      " [  8   9  10  11]]\n"
     ]
    }
   ],
   "source": [
    "#indexing\n",
    "arr2d=np.arange(12).reshape(3,4)\n",
    "print(arr2d)\n",
    "print(arr2d[1]) #it will slice that particular row \n",
    "print(arr2d[2][0]) #it mean 3 row and 1 column (get a particular element)\n",
    "print(arr2d[-1])\n",
    "#slicing\n",
    "print(\"Slicing \\n\")\n",
    "new=arr2d[:] # : means selecting whole arrray\n",
    "print(new)\n",
    "new[:]=10 #giving same value to array i.e, 10\n",
    "print(new,arr2d) #but arr2d also changes, same concept as 1-d, we will use copy\n",
    "\n",
    "arr2d=np.arange(12).reshape(3,4)\n",
    "\n",
    "new=arr2d[:].copy() # : means copying whole arrray\n",
    "print(new)\n",
    "new[:]=10 #giving same value to array i.e, 10\n",
    "print(new,\"\\n\",arr2d) #only new changes not arr2d\n",
    "\n",
    "#selecting both rows and column in once\n",
    "print(arr2d[:2])#only first two arrays\n",
    "print(arr2d[:,2]) #it means all rows but only 3 column\n",
    "print(arr2d[0:1,1:3])#it means selecting 1 column but only 2 and 3 column\n",
    "arr2d[0:1,1:3]=100 #edit same as 1D \n",
    "print(arr2d)\n"
   ]
  },
  {
   "cell_type": "markdown",
   "metadata": {},
   "source": [
    "8-Boolean Indexing in 1D and 2D"
   ]
  },
  {
   "cell_type": "markdown",
   "metadata": {},
   "source": [
    "In boolean indexing, only those rows appears which are true or which have values 1 and 0 or false get discarde.  "
   ]
  },
  {
   "cell_type": "code",
   "execution_count": 174,
   "metadata": {},
   "outputs": [
    {
     "name": "stdout",
     "output_type": "stream",
     "text": [
      "[3 4 5 6 4 8 4]\n",
      "[False  True False False  True False  True]\n",
      "[0 1 2 3 4 5 6]\n",
      "[1 4 6]\n",
      "In 2D\n",
      "[[ 0  1  2  3]\n",
      " [ 4  5  6  7]\n",
      " [ 8  9 10 11]\n",
      " [12 13 14 15]\n",
      " [16 17 18 19]\n",
      " [20 21 22 23]\n",
      " [24 25 26 27]]\n",
      "[False  True False False  True False  True]\n",
      "[[ 4  5  6  7]\n",
      " [16 17 18 19]\n",
      " [24 25 26 27]]\n",
      "[False  True False False  True False  True]\n",
      "[ True False  True  True False  True False]\n",
      "[[ 0  1  2  3]\n",
      " [ 8  9 10 11]\n",
      " [12 13 14 15]\n",
      " [20 21 22 23]]\n"
     ]
    }
   ],
   "source": [
    "#In 1D\n",
    "array=np.array([3,4,5,6,4,8,4])\n",
    "print(array)\n",
    "boolean=(array==4) #boolean array which is true only where value is 4 \n",
    "print(boolean)\n",
    "new=np.arange(7)\n",
    "print(new)\n",
    "filter=new[boolean] #boolean array and new array should be of same length\n",
    "print(filter)\n",
    "\n",
    "#In 2D\n",
    "print(\"In 2D\")\n",
    "arr2d=np.arange(28).reshape(7,4)\n",
    "print(arr2d)\n",
    "print(boolean) #same boolen arrray as above\n",
    "filter=arr2d[boolean] #the rows in arr2d and no. of elements in boolean are equal\n",
    "print(filter)\n",
    "\n",
    "#reverse the condition or boolean array by ~ sign\n",
    "print(boolean)\n",
    "print(~boolean)\n",
    "print(arr2d[~boolean])\n"
   ]
  },
  {
   "cell_type": "markdown",
   "metadata": {},
   "source": [
    "9-Some conditioning filtering in 1D and 2D arrays"
   ]
  },
  {
   "cell_type": "code",
   "execution_count": 175,
   "metadata": {},
   "outputs": [
    {
     "name": "stdout",
     "output_type": "stream",
     "text": [
      "[0 1 2 3 4 5 6 7 8 9]\n",
      "[5 6 7 8 9]\n",
      "[False False False False False  True  True  True  True  True]\n",
      "[2]\n",
      "[False False False False False False  True  True  True  True]\n",
      "[6 7 8 9]\n",
      "[0 0 0 0 0 5 6 7 8 9]\n",
      "In 2D\n",
      "[[ 0  1  2]\n",
      " [ 3  4  5]\n",
      " [ 6  7  8]\n",
      " [ 9 10 11]\n",
      " [12 13 14]\n",
      " [15 16 17]\n",
      " [18 19 20]]\n",
      "[ True False  True False  True  True False]\n",
      "[[ 0  1  2]\n",
      " [ 6  7  8]\n",
      " [12 13 14]\n",
      " [15 16 17]]\n",
      "[[ 3  4  5]\n",
      " [ 9 10 11]\n",
      " [18 19 20]]\n"
     ]
    }
   ],
   "source": [
    "#In 1D\n",
    "arr1d=np.arange(10)\n",
    "print(arr1d)\n",
    "new=arr1d[arr1d>4]\n",
    "print(new)\n",
    "#whenever you compare any array in numpy it always makes a boolean array\n",
    "print(arr1d>4) #same as boolean indexing, but this time not any boolean arrray but only the original array and applying condition\n",
    "print(arr1d[arr1d==2])\n",
    "#we can merge two condition by and(&) or Or (|)\n",
    "mask=(arr1d>5)& (arr1d<10) #and operation b/w both boolean arrays\n",
    "print(mask)\n",
    "print(arr1d[mask]) #can also assign the value\n",
    "arr1d[arr1d<5]=0 #no.s less than 5 will be 0\n",
    "print(arr1d)\n",
    "#In 2D\n",
    "print(\"In 2D\")\n",
    "#it happens same like boolean indexing\n",
    "names=[\"Arun\",\"Saushu\",\"Niggu\",\"Pinju\",\"Arun\",\"Niggu\",\"Lapo\"]\n",
    "name_array=np.array(names)\n",
    "arr2d=np.arange(21).reshape(7,3)\n",
    "print(arr2d)\n",
    "mask=(name_array==\"Arun\") | (name_array==\"Niggu\")\n",
    "print(mask)\n",
    "print(arr2d[mask])\n",
    "print(arr2d[~mask]) # ~ for reversing th condition\n"
   ]
  },
  {
   "cell_type": "markdown",
   "metadata": {},
   "source": [
    "10-Fancy Indexing in 2D arrays"
   ]
  },
  {
   "cell_type": "code",
   "execution_count": 176,
   "metadata": {},
   "outputs": [
    {
     "name": "stdout",
     "output_type": "stream",
     "text": [
      "[[ 0  1  2  3  4]\n",
      " [ 5  6  7  8  9]\n",
      " [10 11 12 13 14]\n",
      " [15 16 17 18 19]\n",
      " [20 21 22 23 24]\n",
      " [25 26 27 28 29]\n",
      " [30 31 32 33 34]\n",
      " [35 36 37 38 39]\n",
      " [40 41 42 43 44]\n",
      " [45 46 47 48 49]]\n",
      "[[15 16 17 18 19]\n",
      " [35 36 37 38 39]\n",
      " [ 5  6  7  8  9]\n",
      " [ 0  1  2  3  4]\n",
      " [45 46 47 48 49]]\n",
      "[10 33 20 27]\n",
      "[[30 31 32 33 34]\n",
      " [40 41 42 43 44]\n",
      " [20 21 22 23 24]]\n",
      "[33 41 24]\n"
     ]
    }
   ],
   "source": [
    "arr2d=np.arange(50).reshape(10,5)\n",
    "print(arr2d)\n",
    "print(arr2d[[3,7,1,0,9]])#pass a list of rows, and rows will be appearing in order given\n",
    "print(arr2d[[2,6,4,5],[0,3,0,2]]) #first list is rows and other is respective columns(always give 1D array as an asnswer)\n",
    "#we can also use negative indexing here\n",
    "print(arr2d[[-4,-2,-6]])\n",
    "print(arr2d[[-4,-2,-6],[-2,-4,-1]])"
   ]
  },
  {
   "cell_type": "markdown",
   "metadata": {},
   "source": [
    "11-Statistical Function For Data Science"
   ]
  },
  {
   "cell_type": "code",
   "execution_count": 177,
   "metadata": {},
   "outputs": [
    {
     "name": "stdout",
     "output_type": "stream",
     "text": [
      "[[ 1.62434536 -0.61175641 -0.52817175 -1.07296862]\n",
      " [ 0.86540763 -2.3015387   1.74481176 -0.7612069 ]\n",
      " [ 0.3190391  -0.24937038  1.46210794 -2.06014071]\n",
      " [-0.3224172  -0.38405435  1.13376944 -1.09989127]\n",
      " [-0.17242821 -0.87785842  0.04221375  0.58281521]]\n",
      "(5, 4)\n",
      "[[ 1.62434536  0.86540763  0.3190391  -0.3224172  -0.17242821]\n",
      " [-0.61175641 -2.3015387  -0.24937038 -0.38405435 -0.87785842]\n",
      " [-0.52817175  1.74481176  1.46210794  1.13376944  0.04221375]\n",
      " [-1.07296862 -0.7612069  -2.06014071 -1.09989127  0.58281521]]\n",
      "[[ 0  1  2]\n",
      " [ 3  4  5]\n",
      " [ 6  7  8]\n",
      " [ 9 10 11]\n",
      " [12 13 14]]\n",
      "7.0\n",
      "[ 1.  4.  7. 10. 13.]\n",
      "[6. 7. 8.]\n",
      "Dot\n",
      "[[ 1.7922517  -0.05518479  1.68461927]\n",
      " [ 0.01625811  0.6105056  -2.32514518]\n",
      " [-0.61848146 -0.58295627 -0.23465973]]\n",
      "[[ 1.7922517  -0.05518479  1.68461927]\n",
      " [ 0.01625811  0.6105056  -2.32514518]\n",
      " [-0.61848146 -0.58295627 -0.23465973]]\n",
      "[[0 1]\n",
      " [2 3]\n",
      " [4 5]\n",
      " [6 7]\n",
      " [8 9]]\n",
      "[[-9 -9]\n",
      " [-9 -9]\n",
      " [-9 -9]\n",
      " [ 0  0]\n",
      " [ 0  0]]\n",
      "[[0 1]\n",
      " [2 3]\n",
      " [4 5]\n",
      " [0 0]\n",
      " [0 0]]\n"
     ]
    }
   ],
   "source": [
    "#Transpose an array\n",
    "np.random.seed(1)\n",
    "array=np.random.randn(5,4)\n",
    "print(array)\n",
    "print(array.shape)\n",
    "print(array.T) #trasnpose\n",
    "#mean of 2-D array\n",
    "arr=np.arange(15).reshape(5,3)\n",
    "print(arr)\n",
    "print(np.mean(arr))\n",
    "print(np.mean(arr,axis=1))# 1 means you have to traverse columns for every row, 0 means travese every row for columns\n",
    "print(np.mean(arr,axis=0)) #this technique also used for np.sum()\n",
    "#dot product\n",
    "print(\"Dot\")\n",
    "first=np.random.randn(3,4)\n",
    "second=np.random.randn(4,3)\n",
    "dot=np.dot(first,second)\n",
    "print(dot)\n",
    "print(first@second) #also can use @ to do dot product\n",
    "#where function\n",
    "array=np.arange(10).reshape(5,2)\n",
    "print(array)\n",
    "new=np.where(array>5,0,-9) #if condition is true then place 0 , otherwise -9 and it is a copy not a view.\n",
    "print(new)\n",
    "#if don't want other condition then\n",
    "new=np.where(array>5,0,array)\n",
    "print(new)\n",
    "\n",
    "    \n"
   ]
  },
  {
   "cell_type": "markdown",
   "metadata": {},
   "source": [
    "12-Sorting in 1-D and 2-D"
   ]
  },
  {
   "cell_type": "code",
   "execution_count": 178,
   "metadata": {},
   "outputs": [
    {
     "name": "stdout",
     "output_type": "stream",
     "text": [
      "[ 0.05080775 -0.63699565  0.19091548  2.10025514  0.12015895  0.61720311\n",
      "  0.30017032 -0.35224985 -1.1425182  -0.34934272]\n",
      "[-1.1425182  -0.63699565 -0.35224985 -0.34934272  0.05080775  0.12015895\n",
      "  0.19091548  0.30017032  0.61720311  2.10025514]\n",
      "in 2D\n",
      "[[-0.20889423  0.58662319  0.83898341  0.93110208]\n",
      " [ 0.28558733  0.88514116 -0.75439794  1.25286816]\n",
      " [ 0.51292982 -0.29809284  0.48851815 -0.07557171]]\n",
      "[[-0.20889423  0.58662319  0.83898341  0.93110208]\n",
      " [-0.75439794  0.28558733  0.88514116  1.25286816]\n",
      " [-0.29809284 -0.07557171  0.48851815  0.51292982]]\n",
      "[[-0.20889423 -0.29809284 -0.75439794 -0.07557171]\n",
      " [ 0.28558733  0.58662319  0.48851815  0.93110208]\n",
      " [ 0.51292982  0.88514116  0.83898341  1.25286816]]\n",
      "[ 2  3  4  5  6  7 56 78]\n",
      "[ True False  True False False False  True False False  True False]\n"
     ]
    }
   ],
   "source": [
    "#In 1D\n",
    "arr=np.random.randn(10)\n",
    "print(arr)\n",
    "print(np.sort(arr))\n",
    "#In 2D\n",
    "print(\"in 2D\")\n",
    "arr=np.random.randn(3,4)\n",
    "print(arr)\n",
    "print(np.sort(arr))#defaultly sort inside all rows\n",
    "print(np.sort(arr,axis=0))\n",
    "#Unique functions\n",
    "arr=np.array([2,3,4,3,5,6,7,6,56,2,78])\n",
    "print(np.unique(arr)) #Unique= sorted sets\n",
    "\n",
    "mask=np.in1d(arr,[2,4,7]) #True for only given list for given array\n",
    "print(mask)\n"
   ]
  },
  {
   "cell_type": "markdown",
   "metadata": {},
   "source": [
    "13-Saving and Loading in Numpy"
   ]
  },
  {
   "cell_type": "code",
   "execution_count": 179,
   "metadata": {},
   "outputs": [
    {
     "name": "stdout",
     "output_type": "stream",
     "text": [
      "[0 1 2 3 4 5 6 7 8 9]\n"
     ]
    }
   ],
   "source": [
    "#it can save any dimension array in .npy format\n",
    "arr=np.arange(10)\n",
    "np.save(\"saved\",arr) #it saves arrray in .npy file\n",
    "loaded=np.load(\"saved.npy\")\n",
    "print(loaded)"
   ]
  }
 ],
 "metadata": {
  "kernelspec": {
   "display_name": "Python 3",
   "language": "python",
   "name": "python3"
  },
  "language_info": {
   "codemirror_mode": {
    "name": "ipython",
    "version": 3
   },
   "file_extension": ".py",
   "mimetype": "text/x-python",
   "name": "python",
   "nbconvert_exporter": "python",
   "pygments_lexer": "ipython3",
   "version": "3.5.2"
  }
 },
 "nbformat": 4,
 "nbformat_minor": 2
}
